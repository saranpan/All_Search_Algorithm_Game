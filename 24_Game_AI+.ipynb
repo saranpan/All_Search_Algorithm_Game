{
  "nbformat": 4,
  "nbformat_minor": 0,
  "metadata": {
    "colab": {
      "name": "24 Game AI+.ipynb",
      "provenance": [],
      "authorship_tag": "ABX9TyPydOuPKiyPPDZoVKdmyOVP",
      "include_colab_link": true
    },
    "kernelspec": {
      "name": "python3",
      "display_name": "Python 3"
    },
    "language_info": {
      "name": "python"
    }
  },
  "cells": [
    {
      "cell_type": "markdown",
      "metadata": {
        "id": "view-in-github",
        "colab_type": "text"
      },
      "source": [
        "<a href=\"https://colab.research.google.com/github/wallik2/All_Search_Algorithm_Game/blob/main/24_Game_AI%2B.ipynb\" target=\"_parent\"><img src=\"https://colab.research.google.com/assets/colab-badge.svg\" alt=\"Open In Colab\"/></a>"
      ]
    },
    {
      "cell_type": "code",
      "source": [
        "from numpy import random\n",
        "from time import time, sleep\n",
        "from copy import deepcopy"
      ],
      "metadata": {
        "id": "ID8Ex_SZBLgN"
      },
      "execution_count": null,
      "outputs": []
    },
    {
      "cell_type": "code",
      "source": [
        "#@title Back Algorithm {display-mode: \"form\"}\n",
        "\n",
        "class Node():\n",
        "\n",
        "  def __init__(self, seq , last_move, parent):\n",
        "    self.seq = seq\n",
        "    self.last_move = last_move\n",
        "    self.parent = parent\n",
        "  \n",
        "  def __repr__(self):\n",
        "    return f'Node({self.seq},{self.last_move},{self.parent})'\n",
        "\n",
        "\n",
        "def actionable(seq,pos1,operation,pos2):\n",
        "\n",
        "  if pos1 == pos2:\n",
        "    #print('Two position cannot be the same')\n",
        "    return False\n",
        "\n",
        "\n",
        "  if operation == '-':\n",
        "\n",
        "    if seq[pos1] - seq[pos2] < 0:\n",
        "      #print('The result cannot be negative')\n",
        "      return False\n",
        "\n",
        "  elif operation == '/':\n",
        "\n",
        "    # Test infinity\n",
        "    if seq[pos2] == 0:\n",
        "      #print('Cannot divide by zero')\n",
        "      return False\n",
        "\n",
        "    # No fraction\n",
        "    if seq[pos1] % seq[pos2] != 0:\n",
        "      #print('The result cannot be fraction')\n",
        "      return False\n",
        "    \n",
        "  return True\n",
        "\n",
        "\n",
        "def move(seq, pos1, operation, pos2):\n",
        "  \n",
        "  #index readability\n",
        "  pos1-=1\n",
        "  pos2-=1\n",
        "\n",
        "  if actionable(seq, pos1, operation, pos2):\n",
        "\n",
        "    if operation == '+':\n",
        "      result = seq[pos1] + seq[pos2]\n",
        "    \n",
        "    elif operation == '-':\n",
        "      result = seq[pos1] - seq[pos2]\n",
        "\n",
        "    elif operation == '*':\n",
        "      result = seq[pos1] * seq[pos2]\n",
        "\n",
        "    elif operation == '/':\n",
        "      result = int(seq[pos1] / seq[pos2])\n",
        "\n",
        "    else:\n",
        "      print('Invalid operator, please choose +,-,*, or /')\n",
        "\n",
        "    if pos1 > pos2:\n",
        "      high , low = pos1 , pos2\n",
        "    else:\n",
        "      high , low = pos2 , pos1\n",
        "\n",
        "    seq.pop(high)\n",
        "    seq.pop(low)\n",
        "    seq.insert(high-1,result) \n",
        "\n",
        "    return seq\n",
        "\n",
        "\n",
        "def move_from_string(seq,strings):\n",
        "\n",
        "    split = list(strings)\n",
        "    pos1,operation,pos2 = int(split[0]), split[1], int(split[2])\n",
        "\n",
        "    return move(seq,pos1,operation,pos2)\n",
        "\n",
        "\n",
        "def actionable_from_string(seq,strings):\n",
        "\n",
        "    split = list(strings)\n",
        "    pos1,operation,pos2 = int(split[0]), split[1], int(split[2])\n",
        "    \n",
        "    #index readability\n",
        "    pos1-=1\n",
        "    pos2-=1\n",
        "    return actionable(seq,pos1,operation,pos2)\n",
        "\n",
        "\n",
        "action = state24()\n",
        "action_list1 = deepcopy( action.obtain_action_list() )\n",
        "action_list2 = deepcopy( action.obtain_action_list() )\n",
        "action_list3 = deepcopy( action.obtain_action_list() )\n",
        "\n",
        "def select_action_list(seq):\n",
        "  if len(seq) == 4:\n",
        "    action_list = action_list1\n",
        "  \n",
        "  elif len(seq) == 3:\n",
        "    action_list = action_list2\n",
        "  \n",
        "  elif len(seq) == 2:\n",
        "    action_list = action_list3\n",
        "  \n",
        "  else:\n",
        "    action_list = None\n",
        "    \n",
        "  return action_list\n",
        "  \n",
        "\n",
        "def transition(node,action):\n",
        "\n",
        "  seq = deepcopy(node.seq)\n",
        "  \n",
        "  if actionable_from_string(seq,action):\n",
        "    \n",
        "    child_seq = move_from_string(seq,action)\n",
        "    child = Node(child_seq,action,node)\n",
        "\n",
        "  else:\n",
        "    child = None\n",
        "\n",
        "  return child\n",
        "\n",
        "def expand(node):\n",
        "\n",
        "  listNextNode = []\n",
        "  action_list = select_action_list(node.seq)\n",
        "  \n",
        "  for action in action_list:\n",
        "    \n",
        "    child = transition(node, action)\n",
        "\n",
        "    if child != None:\n",
        "        listNextNode.append(child)\n",
        "\n",
        "  return listNextNode\n",
        "\n",
        "\n",
        "def goal_check(node):\n",
        "      \n",
        "  if len(node.seq) == 1:\n",
        "    if node.seq[0] == 24:\n",
        "      return True\n",
        "\n",
        "    return False\n",
        "\n",
        "\n",
        "def solve(initial):    \n",
        "\n",
        "    frontier = [initial]\n",
        "    solution = []    \n",
        "\n",
        "    while True:\n",
        "        \n",
        "        # No solution\n",
        "        if len(frontier) == 0:\n",
        "          #print('No solution')\n",
        "          break\n",
        "\n",
        "\n",
        "        else:\n",
        "\n",
        "           #pop(0) : BFS , pop(): DFS\n",
        "            node = frontier.pop(0)\n",
        "\n",
        "            \n",
        "            if goal_check(node):\n",
        "                path = [node]\n",
        "\n",
        "                while node.parent != None : \n",
        "                    path.insert(0, node.parent)\n",
        "                    node = node.parent                \n",
        "                \n",
        "                solution = path\n",
        "                break\n",
        "\n",
        "            \n",
        "            else:\n",
        "                \n",
        "                if len(node.seq) > 1:      \n",
        "                  frontier = frontier + expand(node)  \n",
        "              \n",
        "    return solution\n",
        "\n",
        "def printSolution(solution):\n",
        "    print('Game24 solution step by step')\n",
        "    for node in solution:\n",
        "        print('Action: ', node.last_move, ' Current sequence:', node.seq)\n",
        "\n",
        "#Generate solvable game 24 using BFS algorithm\n",
        "def generate_24():\n",
        "  random_24 = list(random.randint(low = 1, \n",
        "                              high = 9, \n",
        "                              size = 4))\n",
        "  \n",
        "  node = Node(random_24,None,None)\n",
        "  if not solve(node):\n",
        "    return generate_24()\n",
        "  \n",
        "  return node.seq\n",
        "  "
      ],
      "metadata": {
        "id": "_gDlWvdyBLta"
      },
      "execution_count": null,
      "outputs": []
    },
    {
      "cell_type": "markdown",
      "source": [
        "\n",
        "\n",
        "---\n",
        "\n"
      ],
      "metadata": {
        "id": "DCIt0zs1BNBT"
      }
    },
    {
      "cell_type": "code",
      "source": [
        "class game24():\n",
        "\n",
        "  welcome_text = '''Welcome to 24 Game... Made by Wallik  \\n\n",
        "\n",
        "                    Rule : Enter your move by the following format : \"[position 1][Operation][position 2]\" :\\n\n",
        "                    Eg: 2-1 means the number at position 2 subtracted by the number at position 1 \\n\\n\\n\\n\n",
        "                    '''\n",
        "  time_record = []\n",
        "\n",
        "  def __init__(self,autoplay='no'):\n",
        "\n",
        "    self.seq = generate_24()\n",
        "    self.start_seq = deepcopy(self.seq)\n",
        "    self.path = 0\n",
        "    self.status = 'not end'\n",
        "    self.tik = time()\n",
        "    # Re\n",
        "    if autoplay != 'no':\n",
        "      #self.tik = time()\n",
        "      self.autoplay()\n",
        "\n",
        "\n",
        "  def actionable(self,pos1,operation,pos2):\n",
        "\n",
        "    if pos1 == pos2:\n",
        "      print('Two position cannot be the same')\n",
        "      return False\n",
        "\n",
        "\n",
        "    if operation == '-':\n",
        "\n",
        "      if self.seq[pos1] - self.seq[pos2] < 0:\n",
        "        print('The result cannot be negative')\n",
        "        return False\n",
        "\n",
        "    elif operation == '/':\n",
        "\n",
        "      # Test infinity\n",
        "      if self.seq[pos1] / self.seq[pos2] == float('inf'):\n",
        "        print('Cannot divide by zero')\n",
        "        return False\n",
        "\n",
        "      # No fraction\n",
        "      if self.seq[pos1] % self.seq[pos2] != 0:\n",
        "        print('The result cannot be fraction')\n",
        "        return False\n",
        "      \n",
        "    return True\n",
        "\n",
        "  def move(self, pos1, operation, pos2 , inplace = True):\n",
        "    \n",
        "    #human-index interpretability\n",
        "    pos1, pos2 = self.blunt_index(pos1,pos2)\n",
        "\n",
        "    if self.actionable(pos1, operation, pos2):\n",
        "\n",
        "      if operation == '+':\n",
        "        result = self.seq[pos1] + self.seq[pos2]\n",
        "      \n",
        "      elif operation == '-':\n",
        "        result = self.seq[pos1] - self.seq[pos2]\n",
        "\n",
        "      elif operation == '*':\n",
        "        result = self.seq[pos1] * self.seq[pos2]\n",
        "\n",
        "      elif operation == '/':\n",
        "        result = int(self.seq[pos1] / self.seq[pos2])\n",
        "\n",
        "      else:\n",
        "        print('Invalid operator, please choose +,-,*, or /')\n",
        "\n",
        "      if pos1 > pos2:\n",
        "        high , low = pos1 , pos2\n",
        "      else:\n",
        "        high , low = pos2 , pos1\n",
        "\n",
        "      self.seq.pop(high)\n",
        "      self.seq.pop(low)\n",
        "      self.seq.insert(high-1,result) \n",
        "\n",
        "      self.path +=1 \n",
        "      print('\\n',self.seq)\n",
        "\n",
        "    if self.path == 3:\n",
        "      self.status = 'end'\n",
        "      self.check()\n",
        "\n",
        "\n",
        "  def check(self):\n",
        "\n",
        "      if self.seq[0] == 24:\n",
        "        print('Congratulation, you win!')\n",
        "        self.tok = time()\n",
        "        \n",
        "        time_used = (self.tok- self.tik)/60\n",
        "        print(f'You take {time_used} minutes')\n",
        "\n",
        "        game24.time_record.append(time_used)\n",
        "\n",
        "      else:\n",
        "        print('You lose :(')\n",
        "      \n",
        "      \n",
        "      if self.path == 3 :\n",
        "        retry = input('\\n Retry? (y/n): ')\n",
        "\n",
        "        if retry == 'y':\n",
        "          self.__init__() \n",
        "          print('\\n'*2,self.seq)\n",
        "\n",
        "\n",
        "        elif retry == 'n':\n",
        "          pass \n",
        "      \n",
        "\n",
        "  # Alternative to move '{pos1}-{operation}-{pos2}'\n",
        "  def move_from_string(self,strings):\n",
        "    \n",
        "    split = list(strings)\n",
        "\n",
        "    pos1,operation,pos2 = int(split[0]), split[1], int(split[2])\n",
        "\n",
        "    self.move(pos1,operation,pos2)\n",
        "  \n",
        "  def actionable_from_string(self,strings):\n",
        "    \n",
        "    split = list(strings)\n",
        "\n",
        "    pos1,operation,pos2 = int(split[0]), split[1], int(split[2])\n",
        "\n",
        "    self.actionable(pos1,operation,pos2)\n",
        "\n",
        "  @staticmethod\n",
        "  def blunt_index(pos1,pos2):\n",
        "    return pos1-1, pos2-1\n",
        "  \n",
        "  #optional \n",
        "  def autoplay(self):  \n",
        "    \n",
        "    print(self.welcome_text)\n",
        "    print(self.seq)\n",
        "\n",
        "    while self.status != 'end' :\n",
        "      _input_ = input('Enter Your Move : ')\n",
        "      self.move_from_string(_input_)  \n",
        "\n",
        "  @classmethod\n",
        "  def fastest_winner(cls):\n",
        "    print(min(cls.time_record))\n",
        "\n",
        "  # Give up and give a solution\n",
        "  def giveup(self):\n",
        "    node = Node(self.start_seq,None,None)\n",
        "    printSolution( solve(node) )\n",
        "\n",
        "    self.seq = [1]\n",
        "    self.path = 3\n",
        "    \n",
        "    self.check()\n",
        "\n",
        "\n",
        "  def __repr__(self):\n",
        "    return f'game24({str(self.seq)})'"
      ],
      "metadata": {
        "id": "jQ7drmXjLqDE"
      },
      "execution_count": null,
      "outputs": []
    },
    {
      "cell_type": "markdown",
      "source": [
        "\n",
        "\n",
        "---\n",
        "\n"
      ],
      "metadata": {
        "id": "_4R_EhcTbVIk"
      }
    },
    {
      "cell_type": "markdown",
      "source": [
        "# How to play 2️⃣4️⃣"
      ],
      "metadata": {
        "id": "zGMTM3cHbXgi"
      }
    },
    {
      "cell_type": "markdown",
      "source": [
        "> This game guarantee having the solution. since we use BFS to check before let you play it 😄 "
      ],
      "metadata": {
        "id": "4qG1rgPkJgA4"
      }
    },
    {
      "cell_type": "markdown",
      "source": [
        "### <u>1. First Game"
      ],
      "metadata": {
        "id": "tcl_tPNhPBL-"
      }
    },
    {
      "cell_type": "code",
      "source": [
        "# Initiate your game\n",
        "\n",
        "game = game24()"
      ],
      "metadata": {
        "id": "c9nDTln1Ujwt"
      },
      "execution_count": null,
      "outputs": []
    },
    {
      "cell_type": "code",
      "source": [
        "# Check the sequence\n",
        "\n",
        "game.seq"
      ],
      "metadata": {
        "colab": {
          "base_uri": "https://localhost:8080/"
        },
        "id": "-h0I2J6lIGFn",
        "outputId": "e7b0fc8d-4727-44ae-8ac7-e4ce2f899b4a"
      },
      "execution_count": null,
      "outputs": [
        {
          "output_type": "execute_result",
          "data": {
            "text/plain": [
              "[2, 5, 2, 7]"
            ]
          },
          "metadata": {},
          "execution_count": 128
        }
      ]
    },
    {
      "cell_type": "code",
      "source": [
        "initial = Node(game.seq,None,None)\n",
        "\n",
        "printSolution(solve(initial))"
      ],
      "metadata": {
        "colab": {
          "base_uri": "https://localhost:8080/"
        },
        "id": "r7exVa2BNGfS",
        "outputId": "06784983-2641-4a0b-933f-975636c3e08f"
      },
      "execution_count": null,
      "outputs": [
        {
          "output_type": "stream",
          "name": "stdout",
          "text": [
            "Game24 solution step by step\n",
            "Action:  None  Current sequence: [2, 5, 2, 7]\n",
            "Action:  1*2  Current sequence: [10, 2, 7]\n",
            "Action:  2*3  Current sequence: [10, 14]\n",
            "Action:  1+2  Current sequence: [24]\n"
          ]
        }
      ]
    },
    {
      "cell_type": "code",
      "source": [
        "game.move_from_string('1*2')"
      ],
      "metadata": {
        "colab": {
          "base_uri": "https://localhost:8080/"
        },
        "id": "TQ2092a0Ja2T",
        "outputId": "c7d06e24-f69c-4c1a-8772-9ea50c04093e"
      },
      "execution_count": null,
      "outputs": [
        {
          "output_type": "stream",
          "name": "stdout",
          "text": [
            "\n",
            " [10, 2, 7]\n"
          ]
        }
      ]
    },
    {
      "cell_type": "code",
      "source": [
        "game.move_from_string('2*3')"
      ],
      "metadata": {
        "colab": {
          "base_uri": "https://localhost:8080/"
        },
        "id": "9Zied6ScJ2m-",
        "outputId": "6cf3ff45-46b9-4dac-9486-af529154c94e"
      },
      "execution_count": null,
      "outputs": [
        {
          "output_type": "stream",
          "name": "stdout",
          "text": [
            "\n",
            " [10, 14]\n"
          ]
        }
      ]
    },
    {
      "cell_type": "code",
      "source": [
        "game.move_from_string('1+2')"
      ],
      "metadata": {
        "colab": {
          "base_uri": "https://localhost:8080/"
        },
        "id": "aLraz7G_J6dU",
        "outputId": "e6571a53-fa35-4e21-9eb3-4ab7846a2277"
      },
      "execution_count": null,
      "outputs": [
        {
          "name": "stdout",
          "output_type": "stream",
          "text": [
            "\n",
            " [24]\n",
            "Congratulation, you win!\n",
            "You take 1.5269379297892252 minutes\n",
            "\n",
            " Retry? (y/n): n\n"
          ]
        }
      ]
    },
    {
      "cell_type": "markdown",
      "source": [
        "### <u>2. Second Game"
      ],
      "metadata": {
        "id": "eq6APcnzPFTE"
      }
    },
    {
      "cell_type": "code",
      "source": [
        "game = game24()"
      ],
      "metadata": {
        "id": "33t5b-XvNraZ"
      },
      "execution_count": null,
      "outputs": []
    },
    {
      "cell_type": "code",
      "source": [
        "game.seq"
      ],
      "metadata": {
        "colab": {
          "base_uri": "https://localhost:8080/"
        },
        "id": "e8NgpTMhN2co",
        "outputId": "ac5d0b03-004b-4b08-adde-7f232da89707"
      },
      "execution_count": null,
      "outputs": [
        {
          "output_type": "execute_result",
          "data": {
            "text/plain": [
              "[4, 5, 4, 1]"
            ]
          },
          "metadata": {},
          "execution_count": 138
        }
      ]
    },
    {
      "cell_type": "code",
      "source": [
        "# Let's retry \n",
        "\n",
        "game.move_from_string('1*2')\n",
        "game.move_from_string('1+2')\n",
        "game.move_from_string('1*2')"
      ],
      "metadata": {
        "colab": {
          "base_uri": "https://localhost:8080/"
        },
        "id": "nVMkTSS9N61D",
        "outputId": "01303d41-6566-4c5a-9a89-704299406cf0"
      },
      "execution_count": null,
      "outputs": [
        {
          "name": "stdout",
          "output_type": "stream",
          "text": [
            "\n",
            " [20, 4, 1]\n",
            "\n",
            " [24, 1]\n",
            "\n",
            " [24]\n",
            "Congratulation, you win!\n",
            "You take 1.1135045647621156 minutes\n",
            "\n",
            " Retry? (y/n): n\n"
          ]
        }
      ]
    },
    {
      "cell_type": "markdown",
      "source": [
        "<u>Tip</u> : You can check out the Leaderboard which announce the fastest time that some of players have done before, you have a chance to beat it "
      ],
      "metadata": {
        "id": "mk7ALCbuPNhM"
      }
    },
    {
      "cell_type": "code",
      "source": [
        "game.fastest_winner()"
      ],
      "metadata": {
        "colab": {
          "base_uri": "https://localhost:8080/"
        },
        "id": "DBxPT9UEOJFg",
        "outputId": "713f25b8-07c8-4ba3-f830-2e1ed70dedee"
      },
      "execution_count": null,
      "outputs": [
        {
          "output_type": "stream",
          "name": "stdout",
          "text": [
            "1.1135045647621156\n"
          ]
        }
      ]
    },
    {
      "cell_type": "code",
      "source": [
        "# Record all times\n",
        "\n",
        "game.time_record"
      ],
      "metadata": {
        "colab": {
          "base_uri": "https://localhost:8080/"
        },
        "id": "Ktp558VpOWx8",
        "outputId": "2bd0d303-e473-49d4-9f12-68e057c94f86"
      },
      "execution_count": null,
      "outputs": [
        {
          "output_type": "execute_result",
          "data": {
            "text/plain": [
              "[1.5269379297892252, 1.1135045647621156]"
            ]
          },
          "metadata": {},
          "execution_count": 143
        }
      ]
    },
    {
      "cell_type": "markdown",
      "source": [
        "### <u>3. Third Game (But Give up)"
      ],
      "metadata": {
        "id": "aR2zvy2cPJr4"
      }
    },
    {
      "cell_type": "markdown",
      "source": [
        "Don't worry, if you cannot solve the problem, you can give up and see the solution "
      ],
      "metadata": {
        "id": "CtLmR3b6uVoy"
      }
    },
    {
      "cell_type": "code",
      "source": [
        "game = game24()"
      ],
      "metadata": {
        "id": "F56bx2_dOhjx"
      },
      "execution_count": null,
      "outputs": []
    },
    {
      "cell_type": "code",
      "source": [
        "game.seq"
      ],
      "metadata": {
        "colab": {
          "base_uri": "https://localhost:8080/"
        },
        "id": "hvV-0GPfO2Wv",
        "outputId": "721daf65-7de4-40ff-9d62-6834abfb4c5a"
      },
      "execution_count": null,
      "outputs": [
        {
          "output_type": "execute_result",
          "data": {
            "text/plain": [
              "[7, 2, 3, 6]"
            ]
          },
          "metadata": {},
          "execution_count": 148
        }
      ]
    },
    {
      "cell_type": "code",
      "source": [
        "game.giveup()"
      ],
      "metadata": {
        "id": "BUKeGTvVIKeX",
        "colab": {
          "base_uri": "https://localhost:8080/"
        },
        "outputId": "c6111ed2-96a1-40d4-a76f-fd489f1e55fd"
      },
      "execution_count": null,
      "outputs": [
        {
          "name": "stdout",
          "output_type": "stream",
          "text": [
            "Game24 solution step by step\n",
            "Action:  None  Current sequence: [7, 2, 3, 6]\n",
            "Action:  1*2  Current sequence: [14, 3, 6]\n",
            "Action:  1-3  Current sequence: [3, 8]\n",
            "Action:  1*2  Current sequence: [24]\n",
            "You lose :(\n",
            "\n",
            " Retry? (y/n): n\n"
          ]
        }
      ]
    },
    {
      "cell_type": "markdown",
      "source": [
        "### <u>4. Fourth Game (In Autoplay Mode)"
      ],
      "metadata": {
        "id": "q0u2GSUnP1va"
      }
    },
    {
      "cell_type": "code",
      "source": [
        "game = game24(autoplay=True)"
      ],
      "metadata": {
        "colab": {
          "base_uri": "https://localhost:8080/"
        },
        "id": "KofSJCtlP0pd",
        "outputId": "cfbdcfa8-e9e3-4bd9-e7ea-b43968f3e2dc"
      },
      "execution_count": null,
      "outputs": [
        {
          "name": "stdout",
          "output_type": "stream",
          "text": [
            "Welcome to 24 Game... Made by Wallik  \n",
            "\n",
            "\n",
            "                    Rule : Enter your move by the following format : \"[position 1][Operation][position 2]\" :\n",
            "\n",
            "                    Eg: 2-1 means the number at position 2 subtracted by the number at position 1 \n",
            "\n",
            "\n",
            "\n",
            "\n",
            "                    \n",
            "[5, 6, 2, 4]\n",
            "Enter Your Move : 1+2\n",
            "\n",
            " [11, 2, 4]\n",
            "Enter Your Move : 1+3\n",
            "\n",
            " [2, 15]\n",
            "Enter Your Move : 2*1\n",
            "\n",
            " [30]\n",
            "You lose :(\n",
            "\n",
            " Retry? (y/n): y\n",
            "\n",
            "\n",
            " [1, 8, 5, 1]\n",
            "Enter Your Move : 3-1\n",
            "\n",
            " [8, 4, 1]\n",
            "Enter Your Move : 3-2\n",
            "The result cannot be negative\n",
            "Enter Your Move : 2-3\n",
            "\n",
            " [8, 3]\n",
            "Enter Your Move : 1*2\n",
            "\n",
            " [24]\n",
            "Congratulation, you win!\n",
            "You take 0.975013017654419 minutes\n",
            "\n",
            " Retry? (y/n): n\n"
          ]
        }
      ]
    },
    {
      "cell_type": "markdown",
      "source": [
        "\n",
        "\n",
        "---\n",
        "\n"
      ],
      "metadata": {
        "id": "H5iN3TK-Pzox"
      }
    }
  ]
}